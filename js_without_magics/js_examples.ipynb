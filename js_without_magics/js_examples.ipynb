{
 "cells": [
  {
   "cell_type": "markdown",
   "metadata": {},
   "source": [
    "0. pipenv install && pipenv shell\n",
    "1. npm install jupyter\n",
    "2. ijsinstall\n",
    "3. Create or open notebook. Assign code cell language mode to javascript.\n",
    "4. Choose the appropriate kernel : Jupyter/Javascript(Node.js)"
   ]
  },
  {
   "cell_type": "code",
   "execution_count": 1,
   "metadata": {},
   "outputs": [
    {
     "name": "stdout",
     "output_type": "stream",
     "text": [
      "hi\n"
     ]
    }
   ],
   "source": [
    "console.log('hi');"
   ]
  },
  {
   "cell_type": "code",
   "execution_count": 2,
   "metadata": {},
   "outputs": [
    {
     "name": "stdout",
     "output_type": "stream",
     "text": [
      "fred\n"
     ]
    }
   ],
   "source": [
    "const user = \"fred\";\n",
    "console.log(user);"
   ]
  },
  {
   "cell_type": "code",
   "execution_count": 3,
   "metadata": {},
   "outputs": [
    {
     "name": "stdout",
     "output_type": "stream",
     "text": [
      "fred\n"
     ]
    }
   ],
   "source": [
    "console.log(user);   //variable is global within notebook"
   ]
  },
  {
   "cell_type": "code",
   "execution_count": 4,
   "metadata": {},
   "outputs": [],
   "source": [
    "function sum(n1, n2) {\n",
    "  return n1 + n2;\n",
    "}\n"
   ]
  },
  {
   "cell_type": "code",
   "execution_count": 5,
   "metadata": {},
   "outputs": [
    {
     "name": "stderr",
     "output_type": "stream",
     "text": [
      "Assertion failed: sum(6,5)==100 (NOTE: this should fail)\n"
     ]
    }
   ],
   "source": [
    "// unit tests for sum()\n",
    "console.assert(sum(6,5) == 11, \"sum(6,5)==11\")\n",
    "console.assert(sum(6,5) == 100, \"sum(6,5)==100\", \"(NOTE: this should fail)\")"
   ]
  },
  {
   "cell_type": "code",
   "execution_count": 6,
   "metadata": {},
   "outputs": [
    {
     "name": "stdout",
     "output_type": "stream",
     "text": [
      "the # is 2\n",
      "the # is 3\n"
     ]
    },
    {
     "name": "stderr",
     "output_type": "stream",
     "text": [
      "Assertion failed: { number: 3, errorMsg: 'the # is not even' }\n"
     ]
    },
    {
     "name": "stdout",
     "output_type": "stream",
     "text": [
      "the # is 4\n",
      "the # is 5\n"
     ]
    },
    {
     "name": "stderr",
     "output_type": "stream",
     "text": [
      "Assertion failed: { number: 5, errorMsg: 'the # is not even' }\n"
     ]
    }
   ],
   "source": [
    "const errorMsg = \"the # is not even\";\n",
    "for (let number = 2; number <= 5; number++) {\n",
    "  console.log(`the # is ${number}`);\n",
    "  console.assert(number % 2 === 0, \"%o\", { number, errorMsg });\n",
    "}"
   ]
  }
 ],
 "metadata": {
  "kernelspec": {
   "display_name": "JavaScript (Node.js)",
   "language": "javascript",
   "name": "javascript"
  },
  "language_info": {
   "file_extension": ".js",
   "mimetype": "application/javascript",
   "name": "javascript",
   "version": "18.16.0"
  }
 },
 "nbformat": 4,
 "nbformat_minor": 4
}
