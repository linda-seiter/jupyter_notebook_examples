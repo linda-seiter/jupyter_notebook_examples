{
 "cells": [
  {
   "cell_type": "code",
   "execution_count": null,
   "metadata": {},
   "outputs": [],
   "source": [
    "# python\n",
    "\n",
    "x = 7\n",
    "print(x)\n",
    "assert x == 7 "
   ]
  },
  {
   "cell_type": "code",
   "execution_count": null,
   "metadata": {},
   "outputs": [],
   "source": [
    "%%javascript\n",
    "console.log(\"This appears in the Javascript console.\");\n",
    "console.log(\"Help/Toggle Developer Tools\")"
   ]
  },
  {
   "cell_type": "code",
   "execution_count": null,
   "metadata": {},
   "outputs": [],
   "source": [
    "%%script node\n",
    "\n",
    "\n",
    "console.log(\"This appears in the notebook.\")"
   ]
  },
  {
   "cell_type": "code",
   "execution_count": null,
   "metadata": {},
   "outputs": [],
   "source": [
    "%%html\n",
    "<h1> Testing html </h1>\n",
    "<p>Hello</p>"
   ]
  },
  {
   "cell_type": "code",
   "execution_count": null,
   "metadata": {},
   "outputs": [],
   "source": [
    "%%html\n",
    "<p> Testing html and javascript</p>\n",
    "<p id='p1'></p>\n",
    "\n",
    "<script>\n",
    "var p1 = document.getElementById('p1');\n",
    "p1.innerHTML = 'Did this work??';\n",
    "</script>"
   ]
  },
  {
   "cell_type": "code",
   "execution_count": null,
   "metadata": {},
   "outputs": [],
   "source": [
    "%%html\n",
    "<!DOCTYPE html>\n",
    "<html>\n",
    "\n",
    "<head>\n",
    "  <title>Parcel Sandbox</title>\n",
    "  <meta charset=\"UTF-8\" />\n",
    "</head>\n",
    "\n",
    "<body>\n",
    "  <p id='p2'>This should change color!</p>\n",
    "\n",
    "  <script>\n",
    "    var p2 = document.getElementById('p2');\n",
    "    p2.style.background = \"green\";\n",
    "</script>\n",
    "</body>\n",
    "\n",
    "</html>"
   ]
  },
  {
   "cell_type": "code",
   "execution_count": 1,
   "metadata": {},
   "outputs": [
    {
     "data": {
      "text/html": [
       "<!DOCTYPE html>\n",
       "<html>\n",
       "\n",
       "\n",
       "\n",
       "<body>\n",
       "  \n",
       "  <h1>Testing external script</h1>\n",
       "  <p>This should change color.</p>\n",
       "  <p>This should not change color.</p>\n",
       "\n",
       "  <script src=\"color_first_p.js\">\n",
       "  </script>\n",
       "</body>\n",
       "\n",
       "</html>\n"
      ],
      "text/plain": [
       "<IPython.core.display.HTML object>"
      ]
     },
     "metadata": {},
     "output_type": "display_data"
    }
   ],
   "source": [
    "%%html\n",
    "<!DOCTYPE html>\n",
    "<html>\n",
    "\n",
    "\n",
    "\n",
    "<body>\n",
    "  \n",
    "  <h1>Testing external script</h1>\n",
    "  <p>This should change color.</p>\n",
    "  <p>This should not change color.</p>\n",
    "\n",
    "  <script src=\"color_first_p.js\">\n",
    "  </script>\n",
    "</body>\n",
    "\n",
    "</html>"
   ]
  }
 ],
 "metadata": {
  "kernelspec": {
   "display_name": "Python 3",
   "language": "python",
   "name": "python3"
  },
  "language_info": {
   "codemirror_mode": {
    "name": "ipython",
    "version": 3
   },
   "file_extension": ".py",
   "mimetype": "text/x-python",
   "name": "python",
   "nbconvert_exporter": "python",
   "pygments_lexer": "ipython3",
   "version": "3.11.4"
  }
 },
 "nbformat": 4,
 "nbformat_minor": 4
}
