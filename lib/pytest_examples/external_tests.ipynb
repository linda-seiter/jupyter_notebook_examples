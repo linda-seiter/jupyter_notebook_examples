{
 "cells": [
  {
   "cell_type": "markdown",
   "metadata": {},
   "source": [
    "# Control Flow: Loops\n",
    "\n",
    "## Learning Goals\n",
    "\n",
    "- Write basic loops with the `for` and `while` constructs.\n",
    "- Use generator and list comprehensions to accomplish complex tasks quickly.\n",
    "\n",
    "***\n",
    "\n",
    "## Key Vocab\n",
    "\n",
    "- **Interpreter**: a program that executes other programs. Python programs\n",
    "require the Python interpreter to be installed on your computer so that they\n",
    "can be run.\n",
    "- **Python Shell**: an interactive interpreter that can be accessed from the\n",
    "command line.\n",
    "- **Data Type**: a specific kind of data. The Python interpreter uses these\n",
    "types to determine which actions can be performed on different data items.\n",
    "- **Exception**: a type of error that can be predicted and handled without\n",
    "causing a program to crash.\n",
    "- **Code Block**: a collection of code that is interpreted together. Python\n",
    "groups code blocks by indentation level.\n",
    "- **Function**: a named code block that performs a sequence of actions when it\n",
    "is called.\n",
    "- **Scope**: the area in your program where a specific variable can be called.\n",
    "\n",
    "***\n",
    "\n",
    "## Introduction\n",
    "\n",
    "In this lesson, we'll show how to use control flow to run the same line(s) of\n",
    "code multiple times in a loop. Make sure to follow along by opening the Python shell\n",
    "and experimenting with the example code.\n",
    "\n",
    "***\n",
    "\n",
    "## Basic Loops in Python\n",
    "\n",
    "blah blah blah"
   ]
  },
  {
   "cell_type": "markdown",
   "metadata": {},
   "source": [
    "## Task #1\n",
    "\n",
    "Write a function `happy_new_year()` using a `while` loop that outputs numbers\n",
    "starting at 10 and counting down to 1. After reaching 1, print out \"Happy New\n",
    "Year!\"\n",
    "\n",
    "```\n",
    "10\n",
    "9\n",
    "8\n",
    "7\n",
    "6\n",
    "5\n",
    "4\n",
    "3\n",
    "2\n",
    "1\n",
    "Happy New Year!\n",
    "```"
   ]
  },
  {
   "cell_type": "code",
   "execution_count": 6,
   "metadata": {},
   "outputs": [
    {
     "name": "stdout",
     "output_type": "stream",
     "text": [
      "Overwriting ../testing/generated/task1.py\n"
     ]
    }
   ],
   "source": [
    "%%file ../testing/generated/task1.py\n",
    "\n",
    "\n",
    "def happy_new_year():\n",
    "    countdown = 10\n",
    "    while countdown in range(10, 0, -1):\n",
    "        print(countdown)\n",
    "        countdown -= 1\n",
    "\n",
    "    print(\"Happy New Year!\")\n"
   ]
  },
  {
   "cell_type": "markdown",
   "metadata": {},
   "source": [
    "## Task #2\n",
    "\n",
    "Write a function `square_integers()` that takes one argument, a list of\n",
    "integers and returns the list of squared elements.\n",
    "\n",
    "```py\n",
    "square_integers([1, 2, 3, 4, 5])\n",
    "# [1, 4, 9, 16, 25]\n",
    "```"
   ]
  },
  {
   "cell_type": "code",
   "execution_count": 7,
   "metadata": {},
   "outputs": [
    {
     "name": "stdout",
     "output_type": "stream",
     "text": [
      "Writing ../testing/generated/task2.py\n"
     ]
    }
   ],
   "source": [
    "%%file ../testing/generated/task2.py\n",
    "\n",
    "def square_integers(int_list):\n",
    "    return [i ** 2 for i in int_list]\n"
   ]
  },
  {
   "cell_type": "code",
   "execution_count": null,
   "metadata": {},
   "outputs": [],
   "source": []
  }
 ],
 "metadata": {
  "kernelspec": {
   "display_name": "Python 3",
   "language": "python",
   "name": "python3"
  },
  "language_info": {
   "codemirror_mode": {
    "name": "ipython",
    "version": 3
   },
   "file_extension": ".py",
   "mimetype": "text/x-python",
   "name": "python",
   "nbconvert_exporter": "python",
   "pygments_lexer": "ipython3",
   "version": "3.11.4"
  }
 },
 "nbformat": 4,
 "nbformat_minor": 2
}
