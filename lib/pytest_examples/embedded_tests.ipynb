{
 "cells": [
  {
   "cell_type": "code",
   "execution_count": 1,
   "metadata": {},
   "outputs": [
    {
     "name": "stdout",
     "output_type": "stream",
     "text": [
      "Requirement already satisfied: ipytest in /Users/lindaseiter/.pyenv/versions/3.11.4/lib/python3.11/site-packages (0.13.3)\n",
      "Requirement already satisfied: ipython in /Users/lindaseiter/.pyenv/versions/3.11.4/lib/python3.11/site-packages (from ipytest) (8.16.1)\n",
      "Requirement already satisfied: packaging in /Users/lindaseiter/.pyenv/versions/3.11.4/lib/python3.11/site-packages (from ipytest) (23.2)\n",
      "Requirement already satisfied: pytest>=5.4 in /Users/lindaseiter/.pyenv/versions/3.11.4/lib/python3.11/site-packages (from ipytest) (7.4.3)\n",
      "Requirement already satisfied: iniconfig in /Users/lindaseiter/.pyenv/versions/3.11.4/lib/python3.11/site-packages (from pytest>=5.4->ipytest) (2.0.0)\n",
      "Requirement already satisfied: pluggy<2.0,>=0.12 in /Users/lindaseiter/.pyenv/versions/3.11.4/lib/python3.11/site-packages (from pytest>=5.4->ipytest) (1.3.0)\n",
      "Requirement already satisfied: backcall in /Users/lindaseiter/.pyenv/versions/3.11.4/lib/python3.11/site-packages (from ipython->ipytest) (0.2.0)\n",
      "Requirement already satisfied: decorator in /Users/lindaseiter/.pyenv/versions/3.11.4/lib/python3.11/site-packages (from ipython->ipytest) (5.1.1)\n",
      "Requirement already satisfied: jedi>=0.16 in /Users/lindaseiter/.pyenv/versions/3.11.4/lib/python3.11/site-packages (from ipython->ipytest) (0.19.1)\n",
      "Requirement already satisfied: matplotlib-inline in /Users/lindaseiter/.pyenv/versions/3.11.4/lib/python3.11/site-packages (from ipython->ipytest) (0.1.6)\n",
      "Requirement already satisfied: pickleshare in /Users/lindaseiter/.pyenv/versions/3.11.4/lib/python3.11/site-packages (from ipython->ipytest) (0.7.5)\n",
      "Requirement already satisfied: prompt-toolkit!=3.0.37,<3.1.0,>=3.0.30 in /Users/lindaseiter/.pyenv/versions/3.11.4/lib/python3.11/site-packages (from ipython->ipytest) (3.0.39)\n",
      "Requirement already satisfied: pygments>=2.4.0 in /Users/lindaseiter/.pyenv/versions/3.11.4/lib/python3.11/site-packages (from ipython->ipytest) (2.16.1)\n",
      "Requirement already satisfied: stack-data in /Users/lindaseiter/.pyenv/versions/3.11.4/lib/python3.11/site-packages (from ipython->ipytest) (0.6.3)\n",
      "Requirement already satisfied: traitlets>=5 in /Users/lindaseiter/.pyenv/versions/3.11.4/lib/python3.11/site-packages (from ipython->ipytest) (5.11.2)\n",
      "Requirement already satisfied: pexpect>4.3 in /Users/lindaseiter/.pyenv/versions/3.11.4/lib/python3.11/site-packages (from ipython->ipytest) (4.8.0)\n",
      "Requirement already satisfied: appnope in /Users/lindaseiter/.pyenv/versions/3.11.4/lib/python3.11/site-packages (from ipython->ipytest) (0.1.3)\n",
      "Requirement already satisfied: parso<0.9.0,>=0.8.3 in /Users/lindaseiter/.pyenv/versions/3.11.4/lib/python3.11/site-packages (from jedi>=0.16->ipython->ipytest) (0.8.3)\n",
      "Requirement already satisfied: ptyprocess>=0.5 in /Users/lindaseiter/.pyenv/versions/3.11.4/lib/python3.11/site-packages (from pexpect>4.3->ipython->ipytest) (0.7.0)\n",
      "Requirement already satisfied: wcwidth in /Users/lindaseiter/.pyenv/versions/3.11.4/lib/python3.11/site-packages (from prompt-toolkit!=3.0.37,<3.1.0,>=3.0.30->ipython->ipytest) (0.2.8)\n",
      "Requirement already satisfied: executing>=1.2.0 in /Users/lindaseiter/.pyenv/versions/3.11.4/lib/python3.11/site-packages (from stack-data->ipython->ipytest) (2.0.0)\n",
      "Requirement already satisfied: asttokens>=2.1.0 in /Users/lindaseiter/.pyenv/versions/3.11.4/lib/python3.11/site-packages (from stack-data->ipython->ipytest) (2.4.0)\n",
      "Requirement already satisfied: pure-eval in /Users/lindaseiter/.pyenv/versions/3.11.4/lib/python3.11/site-packages (from stack-data->ipython->ipytest) (0.2.2)\n",
      "Requirement already satisfied: six>=1.12.0 in /Users/lindaseiter/.pyenv/versions/3.11.4/lib/python3.11/site-packages (from asttokens>=2.1.0->stack-data->ipython->ipytest) (1.16.0)\n",
      "\n",
      "\u001b[1m[\u001b[0m\u001b[34;49mnotice\u001b[0m\u001b[1;39;49m]\u001b[0m\u001b[39;49m A new release of pip is available: \u001b[0m\u001b[31;49m23.3\u001b[0m\u001b[39;49m -> \u001b[0m\u001b[32;49m23.3.1\u001b[0m\n",
      "\u001b[1m[\u001b[0m\u001b[34;49mnotice\u001b[0m\u001b[1;39;49m]\u001b[0m\u001b[39;49m To update, run: \u001b[0m\u001b[32;49mpip install --upgrade pip\u001b[0m\n",
      "Note: you may need to restart the kernel to use updated packages.\n"
     ]
    }
   ],
   "source": [
    "# SETUP: Run this cell once to setup the testing framework\n",
    "\n",
    "%pip install -U ipytest\n",
    "import ipytest\n",
    "import sys\n",
    "import io\n",
    "ipytest.autoconfig()"
   ]
  },
  {
   "cell_type": "markdown",
   "metadata": {},
   "source": [
    "# Looping Lab\n",
    "\n",
    "## Learning Goals\n",
    "\n",
    "- Write basic loops with the `for` and `while` constructs.\n",
    "- Use generator and list comprehensions to accomplish complex tasks quickly.\n",
    "\n",
    "\n",
    "blah blah blah ...."
   ]
  },
  {
   "cell_type": "markdown",
   "metadata": {},
   "source": [
    "## Task #1\n",
    "\n",
    "Write a function `happy_new_year()` using a `while` loop that outputs numbers\n",
    "starting at 10 and counting down to 1. After reaching 1, print out \"Happy New\n",
    "Year!\"\n",
    "\n",
    "```\n",
    "10\n",
    "9\n",
    "8\n",
    "7\n",
    "6\n",
    "5\n",
    "4\n",
    "3\n",
    "2\n",
    "1\n",
    "Happy New Year!\n",
    "```"
   ]
  },
  {
   "cell_type": "code",
   "execution_count": 6,
   "metadata": {},
   "outputs": [],
   "source": [
    "def happy_new_year():\n",
    "    countdown = 10\n",
    "    while countdown in range(10, 0, -1):\n",
    "        print(countdown)\n",
    "        countdown -= 1\n",
    "\n",
    "    print(\"Happy New Year!\")\n",
    "   "
   ]
  },
  {
   "cell_type": "code",
   "execution_count": 7,
   "metadata": {},
   "outputs": [
    {
     "name": "stdout",
     "output_type": "stream",
     "text": [
      "\u001b[32m.\u001b[0m\u001b[32m                                                                                            [100%]\u001b[0m\n",
      "\u001b[32m\u001b[32m\u001b[1m1 passed\u001b[0m\u001b[32m in 0.00s\u001b[0m\u001b[0m\n"
     ]
    }
   ],
   "source": [
    "%%ipytest\n",
    "    \n",
    "# Unit test for happy_new_year()\n",
    "\n",
    "def test_prints_10_to_1_hny():\n",
    "    '''prints 10 to 1 countdown then \"Happy New Year!\"'''\n",
    "    captured_out = io.StringIO()\n",
    "    sys.stdout = captured_out\n",
    "    happy_new_year()\n",
    "    sys.stdout = sys.__stdout__\n",
    "    answer = captured_out.getvalue()\n",
    "    \n",
    "    #answer.split(\\n) produces a list that ends in ''\n",
    "    answer_list = answer.split('\\n')\n",
    "    #second to last value should be the HNY string\n",
    "    assert answer_list[-2] == \"Happy New Year!\", \"Your final line does not match 'Happy New Year!', check spelling/capitalization!\"\n",
    "    digit_strings = [str(i) for i in range(1,11)]\n",
    "    remaining_digits = [i for i in digit_strings if i not in answer_list] \n",
    "    assert remaining_digits == [], f\"You didn't print all digits 1-10, missing {', '.join(remaining_digits)}\"\n"
   ]
  },
  {
   "cell_type": "markdown",
   "metadata": {},
   "source": [
    "## Task #2\n",
    "\n",
    "Write a function `square_integers()` that takes one argument, a list of\n",
    "integers and returns the list of squared elements.\n",
    "\n",
    "```py\n",
    "square_integers([1, 2, 3, 4, 5])\n",
    "# [1, 4, 9, 16, 25]\n",
    "```"
   ]
  },
  {
   "cell_type": "code",
   "execution_count": 4,
   "metadata": {},
   "outputs": [],
   "source": [
    "def square_integers(int_list):\n",
    "    return [i ** 2 for i in int_list]"
   ]
  },
  {
   "cell_type": "code",
   "execution_count": 5,
   "metadata": {},
   "outputs": [
    {
     "name": "stdout",
     "output_type": "stream",
     "text": [
      "\u001b[32m.\u001b[0m\u001b[32m                                                                                            [100%]\u001b[0m\n",
      "\u001b[32m\u001b[32m\u001b[1m1 passed\u001b[0m\u001b[32m in 0.00s\u001b[0m\u001b[0m\n"
     ]
    }
   ],
   "source": [
    "%%ipytest\n",
    "\n",
    "def test_square_integers():\n",
    "    '''returns squared ints for [1, 2, 3, 4, 5] and [-1, -2, -3, -4, -5]'''\n",
    "    assert(square_integers([1, 2, 3, 4, 5]) == [1, 4, 9, 16, 25])\n",
    "    assert(square_integers([-1, -2, -3, -4, -5]) == [1, 4, 9, 16, 25])"
   ]
  }
 ],
 "metadata": {
  "kernelspec": {
   "display_name": "Python 3",
   "language": "python",
   "name": "python3"
  },
  "language_info": {
   "codemirror_mode": {
    "name": "ipython",
    "version": 3
   },
   "file_extension": ".py",
   "mimetype": "text/x-python",
   "name": "python",
   "nbconvert_exporter": "python",
   "pygments_lexer": "ipython3",
   "version": "3.11.4"
  }
 },
 "nbformat": 4,
 "nbformat_minor": 2
}
